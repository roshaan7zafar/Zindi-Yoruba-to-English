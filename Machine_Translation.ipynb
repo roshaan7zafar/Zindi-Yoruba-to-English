{
 "cells": [
  {
   "cell_type": "markdown",
   "metadata": {},
   "source": [
    "# Machine Translation From Yoruba To English"
   ]
  },
  {
   "cell_type": "code",
   "execution_count": 2,
   "metadata": {},
   "outputs": [],
   "source": [
    "import numpy as np\n",
    "import pandas as pd\n",
    "import matplotlib.pyplot as plt\n",
    "import string\n",
    "from string import digits\n",
    "\n",
    "from sklearn.utils import shuffle\n",
    "from sklearn.model_selection import train_test_split\n",
    "\n",
    "\n",
    "import re\n",
    "import os\n",
    "\n",
    "import tensorflow as tf\n",
    "from tensorflow.keras.preprocessing.text import Tokenizer\n",
    "from tensorflow.keras.preprocessing.sequence import pad_sequences\n",
    "from tensorflow.keras.layers import Input, LSTM, Embedding, Dense, Bidirectional\n",
    "from tensorflow.keras.layers import Activation, dot, concatenate\n",
    "from tensorflow.keras.models import Model\n",
    "from tensorflow.keras.callbacks import TensorBoard, ModelCheckpoint, ReduceLROnPlateau, EarlyStopping\n",
    "\n",
    "from gensim.models import Word2Vec\n",
    "import nltk\n",
    "from nltk.tokenize import word_tokenize, sent_tokenize\n",
    "\n"
   ]
  },
  {
   "cell_type": "code",
   "execution_count": 3,
   "metadata": {},
   "outputs": [
    {
     "name": "stdout",
     "output_type": "stream",
     "text": [
      "[name: \"/device:CPU:0\"\n",
      "device_type: \"CPU\"\n",
      "memory_limit: 268435456\n",
      "locality {\n",
      "}\n",
      "incarnation: 2084559632491640539\n",
      ", name: \"/device:GPU:0\"\n",
      "device_type: \"GPU\"\n",
      "memory_limit: 6597931449\n",
      "locality {\n",
      "  bus_id: 1\n",
      "  links {\n",
      "  }\n",
      "}\n",
      "incarnation: 17464277316235132598\n",
      "physical_device_desc: \"device: 0, name: GeForce GTX 1070, pci bus id: 0000:01:00.0, compute capability: 6.1\"\n",
      "]\n"
     ]
    }
   ],
   "source": [
    "from tensorflow.python.client import device_lib\n",
    "print(device_lib.list_local_devices())"
   ]
  },
  {
   "cell_type": "code",
   "execution_count": 79,
   "metadata": {},
   "outputs": [
    {
     "data": {
      "text/html": [
       "<div>\n",
       "<style scoped>\n",
       "    .dataframe tbody tr th:only-of-type {\n",
       "        vertical-align: middle;\n",
       "    }\n",
       "\n",
       "    .dataframe tbody tr th {\n",
       "        vertical-align: top;\n",
       "    }\n",
       "\n",
       "    .dataframe thead th {\n",
       "        text-align: right;\n",
       "    }\n",
       "</style>\n",
       "<table border=\"1\" class=\"dataframe\">\n",
       "  <thead>\n",
       "    <tr style=\"text-align: right;\">\n",
       "      <th></th>\n",
       "      <th>ID</th>\n",
       "      <th>Yoruba</th>\n",
       "      <th>English</th>\n",
       "    </tr>\n",
       "  </thead>\n",
       "  <tbody>\n",
       "    <tr>\n",
       "      <th>0</th>\n",
       "      <td>ID_AAJEQLCz</td>\n",
       "      <td>A ṣètò Ìgbìmọ̀ Tó Ń Ṣètò Ìrànwọ́ Nígbà Àjálù l...</td>\n",
       "      <td>A Disaster Relief Committee was formed to orga...</td>\n",
       "    </tr>\n",
       "    <tr>\n",
       "      <th>1</th>\n",
       "      <td>ID_AASNedba</td>\n",
       "      <td>Ìrọ̀lẹ́ May 22, 2018 ni wọ́n fàṣẹ ọba mú Arákù...</td>\n",
       "      <td>Brother Solovyev was arrested on the evening o...</td>\n",
       "    </tr>\n",
       "    <tr>\n",
       "      <th>2</th>\n",
       "      <td>ID_AAeQrhMq</td>\n",
       "      <td>Iléeṣẹ́ Creative Commons náà</td>\n",
       "      <td>Creative Commons the Organization</td>\n",
       "    </tr>\n",
       "    <tr>\n",
       "      <th>3</th>\n",
       "      <td>ID_AAxlMgPP</td>\n",
       "      <td>Pè̩lú Egypt, Morocco àti Tunisia tí wó̩n ti lo...</td>\n",
       "      <td>With Egypt, Morocco and Tunisia out of the Wor...</td>\n",
       "    </tr>\n",
       "    <tr>\n",
       "      <th>4</th>\n",
       "      <td>ID_ABKuMKSx</td>\n",
       "      <td>Adájọ́ àgbà lórílẹ̀ èdè Náíjíríà (Attorney Gen...</td>\n",
       "      <td>The Attorney General of the Federation, Justic...</td>\n",
       "    </tr>\n",
       "  </tbody>\n",
       "</table>\n",
       "</div>"
      ],
      "text/plain": [
       "            ID                                             Yoruba  \\\n",
       "0  ID_AAJEQLCz  A ṣètò Ìgbìmọ̀ Tó Ń Ṣètò Ìrànwọ́ Nígbà Àjálù l...   \n",
       "1  ID_AASNedba  Ìrọ̀lẹ́ May 22, 2018 ni wọ́n fàṣẹ ọba mú Arákù...   \n",
       "2  ID_AAeQrhMq                       Iléeṣẹ́ Creative Commons náà   \n",
       "3  ID_AAxlMgPP  Pè̩lú Egypt, Morocco àti Tunisia tí wó̩n ti lo...   \n",
       "4  ID_ABKuMKSx  Adájọ́ àgbà lórílẹ̀ èdè Náíjíríà (Attorney Gen...   \n",
       "\n",
       "                                             English  \n",
       "0  A Disaster Relief Committee was formed to orga...  \n",
       "1  Brother Solovyev was arrested on the evening o...  \n",
       "2                  Creative Commons the Organization  \n",
       "3  With Egypt, Morocco and Tunisia out of the Wor...  \n",
       "4  The Attorney General of the Federation, Justic...  "
      ]
     },
     "execution_count": 79,
     "metadata": {},
     "output_type": "execute_result"
    }
   ],
   "source": [
    "train = pd.read_csv('Train.csv')\n",
    "test = pd.read_csv('Test.csv')\n",
    "sub = pd.read_csv('SampleSubmission.csv')\n",
    "train.head()"
   ]
  },
  {
   "cell_type": "code",
   "execution_count": 80,
   "metadata": {},
   "outputs": [
    {
     "data": {
      "text/html": [
       "<div>\n",
       "<style scoped>\n",
       "    .dataframe tbody tr th:only-of-type {\n",
       "        vertical-align: middle;\n",
       "    }\n",
       "\n",
       "    .dataframe tbody tr th {\n",
       "        vertical-align: top;\n",
       "    }\n",
       "\n",
       "    .dataframe thead th {\n",
       "        text-align: right;\n",
       "    }\n",
       "</style>\n",
       "<table border=\"1\" class=\"dataframe\">\n",
       "  <thead>\n",
       "    <tr style=\"text-align: right;\">\n",
       "      <th></th>\n",
       "      <th>ID</th>\n",
       "      <th>Yoruba</th>\n",
       "    </tr>\n",
       "  </thead>\n",
       "  <tbody>\n",
       "    <tr>\n",
       "      <th>0</th>\n",
       "      <td>ID_AAAitMaH</td>\n",
       "      <td>Nínú ìpè kan lẹ́yìn ìgbà náà, wọ́n sọ fún aṣoj...</td>\n",
       "    </tr>\n",
       "    <tr>\n",
       "      <th>1</th>\n",
       "      <td>ID_AAKKdQwr</td>\n",
       "      <td>Nítorí kò sí nǹkan tí ọkùnrin ò lè ṣe láì náán...</td>\n",
       "    </tr>\n",
       "    <tr>\n",
       "      <th>2</th>\n",
       "      <td>ID_ABgAyEOp</td>\n",
       "      <td>Bí i kó pariwo. Kí ó kígbe mọ́ ẹ?</td>\n",
       "    </tr>\n",
       "    <tr>\n",
       "      <th>3</th>\n",
       "      <td>ID_ACFgfKQs</td>\n",
       "      <td>Tí ó ń lé e lọ sọ́nà etí odò Akókurà, tí ó bẹ̀...</td>\n",
       "    </tr>\n",
       "    <tr>\n",
       "      <th>4</th>\n",
       "      <td>ID_ACNPmlhf</td>\n",
       "      <td>Èṣúńiyì mọ̀ iṣẹ́ rẹ̀ dunjú. Màmá tirí bí ó ṣe ...</td>\n",
       "    </tr>\n",
       "  </tbody>\n",
       "</table>\n",
       "</div>"
      ],
      "text/plain": [
       "            ID                                             Yoruba\n",
       "0  ID_AAAitMaH  Nínú ìpè kan lẹ́yìn ìgbà náà, wọ́n sọ fún aṣoj...\n",
       "1  ID_AAKKdQwr  Nítorí kò sí nǹkan tí ọkùnrin ò lè ṣe láì náán...\n",
       "2  ID_ABgAyEOp                  Bí i kó pariwo. Kí ó kígbe mọ́ ẹ?\n",
       "3  ID_ACFgfKQs  Tí ó ń lé e lọ sọ́nà etí odò Akókurà, tí ó bẹ̀...\n",
       "4  ID_ACNPmlhf  Èṣúńiyì mọ̀ iṣẹ́ rẹ̀ dunjú. Màmá tirí bí ó ṣe ..."
      ]
     },
     "execution_count": 80,
     "metadata": {},
     "output_type": "execute_result"
    }
   ],
   "source": [
    "test.head()"
   ]
  },
  {
   "cell_type": "code",
   "execution_count": 81,
   "metadata": {},
   "outputs": [
    {
     "data": {
      "text/html": [
       "<div>\n",
       "<style scoped>\n",
       "    .dataframe tbody tr th:only-of-type {\n",
       "        vertical-align: middle;\n",
       "    }\n",
       "\n",
       "    .dataframe tbody tr th {\n",
       "        vertical-align: top;\n",
       "    }\n",
       "\n",
       "    .dataframe thead th {\n",
       "        text-align: right;\n",
       "    }\n",
       "</style>\n",
       "<table border=\"1\" class=\"dataframe\">\n",
       "  <thead>\n",
       "    <tr style=\"text-align: right;\">\n",
       "      <th></th>\n",
       "      <th>ID</th>\n",
       "      <th>English</th>\n",
       "    </tr>\n",
       "  </thead>\n",
       "  <tbody>\n",
       "    <tr>\n",
       "      <th>0</th>\n",
       "      <td>ID_AAAitMaH</td>\n",
       "      <td>NaN</td>\n",
       "    </tr>\n",
       "    <tr>\n",
       "      <th>1</th>\n",
       "      <td>ID_AAKKdQwr</td>\n",
       "      <td>NaN</td>\n",
       "    </tr>\n",
       "    <tr>\n",
       "      <th>2</th>\n",
       "      <td>ID_ABgAyEOp</td>\n",
       "      <td>NaN</td>\n",
       "    </tr>\n",
       "    <tr>\n",
       "      <th>3</th>\n",
       "      <td>ID_ACFgfKQs</td>\n",
       "      <td>NaN</td>\n",
       "    </tr>\n",
       "    <tr>\n",
       "      <th>4</th>\n",
       "      <td>ID_ACNPmlhf</td>\n",
       "      <td>NaN</td>\n",
       "    </tr>\n",
       "  </tbody>\n",
       "</table>\n",
       "</div>"
      ],
      "text/plain": [
       "            ID  English\n",
       "0  ID_AAAitMaH      NaN\n",
       "1  ID_AAKKdQwr      NaN\n",
       "2  ID_ABgAyEOp      NaN\n",
       "3  ID_ACFgfKQs      NaN\n",
       "4  ID_ACNPmlhf      NaN"
      ]
     },
     "execution_count": 81,
     "metadata": {},
     "output_type": "execute_result"
    }
   ],
   "source": [
    "sub.head()"
   ]
  },
  {
   "cell_type": "code",
   "execution_count": 82,
   "metadata": {},
   "outputs": [
    {
     "data": {
      "text/plain": [
       "(10054, 3)"
      ]
     },
     "execution_count": 82,
     "metadata": {},
     "output_type": "execute_result"
    }
   ],
   "source": [
    "train.shape"
   ]
  },
  {
   "cell_type": "code",
   "execution_count": 83,
   "metadata": {},
   "outputs": [
    {
     "data": {
      "text/html": [
       "<div>\n",
       "<style scoped>\n",
       "    .dataframe tbody tr th:only-of-type {\n",
       "        vertical-align: middle;\n",
       "    }\n",
       "\n",
       "    .dataframe tbody tr th {\n",
       "        vertical-align: top;\n",
       "    }\n",
       "\n",
       "    .dataframe thead th {\n",
       "        text-align: right;\n",
       "    }\n",
       "</style>\n",
       "<table border=\"1\" class=\"dataframe\">\n",
       "  <thead>\n",
       "    <tr style=\"text-align: right;\">\n",
       "      <th></th>\n",
       "      <th>ID</th>\n",
       "      <th>Yoruba</th>\n",
       "      <th>English</th>\n",
       "    </tr>\n",
       "  </thead>\n",
       "  <tbody>\n",
       "    <tr>\n",
       "      <th>4379</th>\n",
       "      <td>ID_WZXuYKCN</td>\n",
       "      <td>5. ṣiṣẹ́ ọ̀rọ̀-ìfiwọlé tó l'ágbára</td>\n",
       "      <td>5.creating strong passwords</td>\n",
       "    </tr>\n",
       "  </tbody>\n",
       "</table>\n",
       "</div>"
      ],
      "text/plain": [
       "               ID                              Yoruba  \\\n",
       "4379  ID_WZXuYKCN  5. ṣiṣẹ́ ọ̀rọ̀-ìfiwọlé tó l'ágbára   \n",
       "\n",
       "                          English  \n",
       "4379  5.creating strong passwords  "
      ]
     },
     "execution_count": 83,
     "metadata": {},
     "output_type": "execute_result"
    }
   ],
   "source": [
    "# train_X,train_y = train_df.loc[:,['ID','Yoruba']], train_df.loc[:,'English']\n",
    "train.Yoruba = train.Yoruba.apply(lambda x: x.lower())\n",
    "train.English = train.English.apply(lambda x: x.lower())\n",
    "train[train.ID =='ID_WZXuYKCN']"
   ]
  },
  {
   "cell_type": "code",
   "execution_count": 84,
   "metadata": {},
   "outputs": [
    {
     "data": {
      "text/html": [
       "<div>\n",
       "<style scoped>\n",
       "    .dataframe tbody tr th:only-of-type {\n",
       "        vertical-align: middle;\n",
       "    }\n",
       "\n",
       "    .dataframe tbody tr th {\n",
       "        vertical-align: top;\n",
       "    }\n",
       "\n",
       "    .dataframe thead th {\n",
       "        text-align: right;\n",
       "    }\n",
       "</style>\n",
       "<table border=\"1\" class=\"dataframe\">\n",
       "  <thead>\n",
       "    <tr style=\"text-align: right;\">\n",
       "      <th></th>\n",
       "      <th>ID</th>\n",
       "      <th>Yoruba</th>\n",
       "      <th>English</th>\n",
       "    </tr>\n",
       "  </thead>\n",
       "  <tbody>\n",
       "    <tr>\n",
       "      <th>4379</th>\n",
       "      <td>ID_WZXuYKCN</td>\n",
       "      <td>5  ṣiṣẹ́ ọ̀rọ̀ ìfiwọlé tó l ágbára</td>\n",
       "      <td>5 creating strong passwords</td>\n",
       "    </tr>\n",
       "  </tbody>\n",
       "</table>\n",
       "</div>"
      ],
      "text/plain": [
       "               ID                              Yoruba  \\\n",
       "4379  ID_WZXuYKCN  5  ṣiṣẹ́ ọ̀rọ̀ ìfiwọlé tó l ágbára   \n",
       "\n",
       "                          English  \n",
       "4379  5 creating strong passwords  "
      ]
     },
     "execution_count": 84,
     "metadata": {},
     "output_type": "execute_result"
    }
   ],
   "source": [
    "# train_X.head()\n",
    "exclude = set(string.punctuation)\n",
    "train.Yoruba = train.Yoruba.apply(lambda x: \"\".join((\"\".join([\" \"if ch in exclude else ch for ch in x]))))\n",
    "train.English = train.English.apply(lambda x: \"\".join((\"\".join([\" \"if ch in exclude else ch for ch in x]))))\n",
    "# \" \".join(\"\".join([\" \" if ch in exclude else ch for ch in x)                                    \n",
    "train[train.ID =='ID_WZXuYKCN']"
   ]
  },
  {
   "cell_type": "code",
   "execution_count": 85,
   "metadata": {},
   "outputs": [
    {
     "data": {
      "text/html": [
       "<div>\n",
       "<style scoped>\n",
       "    .dataframe tbody tr th:only-of-type {\n",
       "        vertical-align: middle;\n",
       "    }\n",
       "\n",
       "    .dataframe tbody tr th {\n",
       "        vertical-align: top;\n",
       "    }\n",
       "\n",
       "    .dataframe thead th {\n",
       "        text-align: right;\n",
       "    }\n",
       "</style>\n",
       "<table border=\"1\" class=\"dataframe\">\n",
       "  <thead>\n",
       "    <tr style=\"text-align: right;\">\n",
       "      <th></th>\n",
       "      <th>ID</th>\n",
       "      <th>Yoruba</th>\n",
       "      <th>English</th>\n",
       "    </tr>\n",
       "  </thead>\n",
       "  <tbody>\n",
       "    <tr>\n",
       "      <th>4379</th>\n",
       "      <td>ID_WZXuYKCN</td>\n",
       "      <td>5  ṣiṣẹ́ ọ̀rọ̀ ìfiwọlé tó l ágbára</td>\n",
       "      <td>5 creating strong passwords</td>\n",
       "    </tr>\n",
       "  </tbody>\n",
       "</table>\n",
       "</div>"
      ],
      "text/plain": [
       "               ID                              Yoruba  \\\n",
       "4379  ID_WZXuYKCN  5  ṣiṣẹ́ ọ̀rọ̀ ìfiwọlé tó l ágbára   \n",
       "\n",
       "                          English  \n",
       "4379  5 creating strong passwords  "
      ]
     },
     "execution_count": 85,
     "metadata": {},
     "output_type": "execute_result"
    }
   ],
   "source": [
    "# train.English = train.English.apply(lambda x: x.strip())\n",
    "# train.Yoruba = train.Yoruba.apply(lambda x: x.strip())\n",
    "\n",
    "# train.English = train.English.apply(lambda x: re.sub(\" +\", \" \", x))\n",
    "# train.Yoruba = train.Yoruba.apply(lambda x: re.sub(\" +\", \" \", x))\n",
    "\n",
    "# train.English = train.English.apply(lambda x: re.sub(\"\\?\\?\", '', x))\n",
    "# train.Yoruba = train.Yoruba.apply(lambda x: re.sub(\"\\?\\?\", '', x))\n",
    "\n",
    "train[train.ID =='ID_WZXuYKCN']"
   ]
  },
  {
   "cell_type": "code",
   "execution_count": 86,
   "metadata": {},
   "outputs": [
    {
     "data": {
      "text/html": [
       "<div>\n",
       "<style scoped>\n",
       "    .dataframe tbody tr th:only-of-type {\n",
       "        vertical-align: middle;\n",
       "    }\n",
       "\n",
       "    .dataframe tbody tr th {\n",
       "        vertical-align: top;\n",
       "    }\n",
       "\n",
       "    .dataframe thead th {\n",
       "        text-align: right;\n",
       "    }\n",
       "</style>\n",
       "<table border=\"1\" class=\"dataframe\">\n",
       "  <thead>\n",
       "    <tr style=\"text-align: right;\">\n",
       "      <th></th>\n",
       "      <th>ID</th>\n",
       "      <th>Yoruba</th>\n",
       "      <th>English</th>\n",
       "    </tr>\n",
       "  </thead>\n",
       "  <tbody>\n",
       "    <tr>\n",
       "      <th>2373</th>\n",
       "      <td>ID_MCjJBkua</td>\n",
       "      <td>fífẹ́ la fẹ́ ẹ̀fọ́ tí à ń pèé ní ọ̀rẹ́ ẹ̀kọ ti...</td>\n",
       "      <td>it is only because one loves spinach that one ...</td>\n",
       "    </tr>\n",
       "    <tr>\n",
       "      <th>927</th>\n",
       "      <td>ID_EgxsITdG</td>\n",
       "      <td>ilé ẹjọ́ echr sì sọ pé wọ́n máa rí i dájú pé à...</td>\n",
       "      <td>the echr has indicated that it will closely mo...</td>\n",
       "    </tr>\n",
       "    <tr>\n",
       "      <th>5992</th>\n",
       "      <td>ID_erTpSsFw</td>\n",
       "      <td>orílẹ̀ èdè amẹ́ríkà la ti kọ́kọ́ ṣe ilé ẹ̀kọ́ ...</td>\n",
       "      <td>the pioneer service school began in the united...</td>\n",
       "    </tr>\n",
       "    <tr>\n",
       "      <th>3085</th>\n",
       "      <td>ID_PhomklDI</td>\n",
       "      <td>ní december 29  2018  ìjì líle tí wọ́n pè ní ...</td>\n",
       "      <td>on december 29  2018  tropical depression usm...</td>\n",
       "    </tr>\n",
       "    <tr>\n",
       "      <th>6041</th>\n",
       "      <td>ID_fDTiLvhs</td>\n",
       "      <td>cc tí í ṣe iléeṣẹ́ àìlérèlórí  tí ó fi ìgbà ka...</td>\n",
       "      <td>cc the nonprofit organization  once housed wit...</td>\n",
       "    </tr>\n",
       "    <tr>\n",
       "      <th>3950</th>\n",
       "      <td>ID_UHuJrnRe</td>\n",
       "      <td>ẹ̀rọ òṣùnwọ̀n ìgbóná</td>\n",
       "      <td>the thermometer</td>\n",
       "    </tr>\n",
       "    <tr>\n",
       "      <th>4286</th>\n",
       "      <td>ID_VsghGfft</td>\n",
       "      <td>a bá àwọn arákùnrin àti arábìnrin wa ní azerba...</td>\n",
       "      <td>we rejoice with our brothers and sisters in az...</td>\n",
       "    </tr>\n",
       "    <tr>\n",
       "      <th>7955</th>\n",
       "      <td>ID_ovyyGLJw</td>\n",
       "      <td>àwọn ẹlẹ́rìí jèhófà ti lómìnira ẹ̀sìn ní mòǹgó...</td>\n",
       "      <td>victory for religious freedom in mongolia  jeh...</td>\n",
       "    </tr>\n",
       "    <tr>\n",
       "      <th>9833</th>\n",
       "      <td>ID_zCKNibjD</td>\n",
       "      <td>omi ló dànù  agbè ò fọ́</td>\n",
       "      <td>it is the water that is spilled  the water gou...</td>\n",
       "    </tr>\n",
       "    <tr>\n",
       "      <th>6165</th>\n",
       "      <td>ID_fmweGFXY</td>\n",
       "      <td>gẹ́gẹ́ bí alákòóso ikọ̀ tó ń sojú cameroon nín...</td>\n",
       "      <td>the country’s team manager  victor agbor nso  ...</td>\n",
       "    </tr>\n",
       "  </tbody>\n",
       "</table>\n",
       "</div>"
      ],
      "text/plain": [
       "               ID                                             Yoruba  \\\n",
       "2373  ID_MCjJBkua  fífẹ́ la fẹ́ ẹ̀fọ́ tí à ń pèé ní ọ̀rẹ́ ẹ̀kọ ti...   \n",
       "927   ID_EgxsITdG  ilé ẹjọ́ echr sì sọ pé wọ́n máa rí i dájú pé à...   \n",
       "5992  ID_erTpSsFw  orílẹ̀ èdè amẹ́ríkà la ti kọ́kọ́ ṣe ilé ẹ̀kọ́ ...   \n",
       "3085  ID_PhomklDI   ní december 29  2018  ìjì líle tí wọ́n pè ní ...   \n",
       "6041  ID_fDTiLvhs  cc tí í ṣe iléeṣẹ́ àìlérèlórí  tí ó fi ìgbà ka...   \n",
       "3950  ID_UHuJrnRe                               ẹ̀rọ òṣùnwọ̀n ìgbóná   \n",
       "4286  ID_VsghGfft  a bá àwọn arákùnrin àti arábìnrin wa ní azerba...   \n",
       "7955  ID_ovyyGLJw  àwọn ẹlẹ́rìí jèhófà ti lómìnira ẹ̀sìn ní mòǹgó...   \n",
       "9833  ID_zCKNibjD                           omi ló dànù  agbè ò fọ́    \n",
       "6165  ID_fmweGFXY  gẹ́gẹ́ bí alákòóso ikọ̀ tó ń sojú cameroon nín...   \n",
       "\n",
       "                                                English  \n",
       "2373  it is only because one loves spinach that one ...  \n",
       "927   the echr has indicated that it will closely mo...  \n",
       "5992  the pioneer service school began in the united...  \n",
       "3085   on december 29  2018  tropical depression usm...  \n",
       "6041  cc the nonprofit organization  once housed wit...  \n",
       "3950                                    the thermometer  \n",
       "4286  we rejoice with our brothers and sisters in az...  \n",
       "7955  victory for religious freedom in mongolia  jeh...  \n",
       "9833  it is the water that is spilled  the water gou...  \n",
       "6165  the country’s team manager  victor agbor nso  ...  "
      ]
     },
     "execution_count": 86,
     "metadata": {},
     "output_type": "execute_result"
    }
   ],
   "source": [
    "train.columns\n",
    "train.sample(10)"
   ]
  },
  {
   "cell_type": "code",
   "execution_count": 87,
   "metadata": {},
   "outputs": [],
   "source": [
    "# train_y.head()\n",
    "vocab_yoruba =set()\n",
    "for sent in train.Yoruba:\n",
    "    for word in sent.split():\n",
    "        if word not in vocab_yoruba:\n",
    "            vocab_yoruba.add(word)\n",
    "        \n",
    "\n",
    "vocab_english = set()\n",
    "for sent in train.English:\n",
    "    for word in sent.split():\n",
    "        if word not in vocab_english:\n",
    "            vocab_english.add(word)\n",
    "            "
   ]
  },
  {
   "cell_type": "code",
   "execution_count": 88,
   "metadata": {},
   "outputs": [
    {
     "data": {
      "text/plain": [
       "(242, 22.788840262582056)"
      ]
     },
     "execution_count": 88,
     "metadata": {},
     "output_type": "execute_result"
    }
   ],
   "source": [
    "length_list = []\n",
    "for i in train.Yoruba:\n",
    "    length_list.append(len(i.split(' ')))\n",
    "max_length_yoruba = np.max(length_list)\n",
    "max_length_yoruba, np.average(length_list)"
   ]
  },
  {
   "cell_type": "code",
   "execution_count": 89,
   "metadata": {},
   "outputs": [
    {
     "data": {
      "text/plain": [
       "(203, 19.828227571115974)"
      ]
     },
     "execution_count": 89,
     "metadata": {},
     "output_type": "execute_result"
    }
   ],
   "source": [
    "length_list = []\n",
    "for i in train.English:\n",
    "    length_list.append(len(i.split(' ')))\n",
    "max_length_english = np.max(length_list)\n",
    "max_length_english, np.average(length_list)"
   ]
  },
  {
   "cell_type": "code",
   "execution_count": 90,
   "metadata": {},
   "outputs": [
    {
     "data": {
      "text/plain": [
       "(15466, 15884)"
      ]
     },
     "execution_count": 90,
     "metadata": {},
     "output_type": "execute_result"
    }
   ],
   "source": [
    "input_words = sorted(list(vocab_yoruba))\n",
    "target_words = sorted(list(vocab_english))\n",
    "num_encoder_tokens = len(vocab_yoruba)\n",
    "num_decoder_tokens = len(vocab_english)\n",
    "num_encoder_tokens, num_decoder_tokens"
   ]
  },
  {
   "cell_type": "code",
   "execution_count": 97,
   "metadata": {},
   "outputs": [],
   "source": [
    "input_token_index = dict([(word, i+1) for i, word in enumerate(input_words)])\n",
    "target_token_index = dict([(word, i+1) for i, word in enumerate(target_words)])"
   ]
  },
  {
   "cell_type": "code",
   "execution_count": 99,
   "metadata": {},
   "outputs": [],
   "source": [
    "reverse_input_char_index = dict((i, word) for word, i in input_token_index.items())\n",
    "reverse_target_char_index = dict((i, word) for word, i in target_token_index.items())"
   ]
  },
  {
   "cell_type": "code",
   "execution_count": 100,
   "metadata": {},
   "outputs": [
    {
     "data": {
      "text/html": [
       "<div>\n",
       "<style scoped>\n",
       "    .dataframe tbody tr th:only-of-type {\n",
       "        vertical-align: middle;\n",
       "    }\n",
       "\n",
       "    .dataframe tbody tr th {\n",
       "        vertical-align: top;\n",
       "    }\n",
       "\n",
       "    .dataframe thead th {\n",
       "        text-align: right;\n",
       "    }\n",
       "</style>\n",
       "<table border=\"1\" class=\"dataframe\">\n",
       "  <thead>\n",
       "    <tr style=\"text-align: right;\">\n",
       "      <th></th>\n",
       "      <th>ID</th>\n",
       "      <th>Yoruba</th>\n",
       "      <th>English</th>\n",
       "    </tr>\n",
       "  </thead>\n",
       "  <tbody>\n",
       "    <tr>\n",
       "      <th>7237</th>\n",
       "      <td>ID_lXsueqsR</td>\n",
       "      <td>àwa ẹlẹ́rìí jèhófà ti pe ẹjọ́ kòtẹ́milọ́rùn ló...</td>\n",
       "      <td>jehovah’s witnesses are appealing this case</td>\n",
       "    </tr>\n",
       "    <tr>\n",
       "      <th>9886</th>\n",
       "      <td>ID_zNdOGOeK</td>\n",
       "      <td>“mo ṣe é tán” ló níyì  a kì í dúpẹ́ aláṣekù</td>\n",
       "      <td>“i have completed the job” is what deserves pr...</td>\n",
       "    </tr>\n",
       "    <tr>\n",
       "      <th>364</th>\n",
       "      <td>ID_BkKlhnpi</td>\n",
       "      <td>atanilólobó báńkì àgbáyé kan ni</td>\n",
       "      <td>a world bank informant stated</td>\n",
       "    </tr>\n",
       "    <tr>\n",
       "      <th>5373</th>\n",
       "      <td>ID_bkIXnxvr</td>\n",
       "      <td>ìyàwó ṣe ọ̀ràn kan tán  ọkọ ẹ̀ ẹ́ ṣe ọ̀ràn an ...</td>\n",
       "      <td>the wife has done the unpardonable  her husban...</td>\n",
       "    </tr>\n",
       "    <tr>\n",
       "      <th>7765</th>\n",
       "      <td>ID_oEicxvRm</td>\n",
       "      <td>ó dá ẹ lójú pé kò sí ẹnì kankan nínú ilé yìí</td>\n",
       "      <td>are you sure there is no body in this house</td>\n",
       "    </tr>\n",
       "  </tbody>\n",
       "</table>\n",
       "</div>"
      ],
      "text/plain": [
       "               ID                                             Yoruba  \\\n",
       "7237  ID_lXsueqsR  àwa ẹlẹ́rìí jèhófà ti pe ẹjọ́ kòtẹ́milọ́rùn ló...   \n",
       "9886  ID_zNdOGOeK       “mo ṣe é tán” ló níyì  a kì í dúpẹ́ aláṣekù    \n",
       "364   ID_BkKlhnpi                   atanilólobó báńkì àgbáyé kan ni    \n",
       "5373  ID_bkIXnxvr  ìyàwó ṣe ọ̀ràn kan tán  ọkọ ẹ̀ ẹ́ ṣe ọ̀ràn an ...   \n",
       "7765  ID_oEicxvRm       ó dá ẹ lójú pé kò sí ẹnì kankan nínú ilé yìí   \n",
       "\n",
       "                                                English  \n",
       "7237       jehovah’s witnesses are appealing this case   \n",
       "9886  “i have completed the job” is what deserves pr...  \n",
       "364                      a world bank informant stated   \n",
       "5373  the wife has done the unpardonable  her husban...  \n",
       "7765        are you sure there is no body in this house  "
      ]
     },
     "execution_count": 100,
     "metadata": {},
     "output_type": "execute_result"
    }
   ],
   "source": [
    "train = shuffle(train)\n",
    "train.head()"
   ]
  },
  {
   "cell_type": "code",
   "execution_count": 102,
   "metadata": {},
   "outputs": [
    {
     "data": {
      "text/plain": [
       "(10054, 10054)"
      ]
     },
     "execution_count": 102,
     "metadata": {},
     "output_type": "execute_result"
    }
   ],
   "source": [
    "yoruba = list(train.Yoruba)\n",
    "english = list(train.English)\n",
    "\n",
    "x = []\n",
    "y = []\n",
    "\n",
    "for i in range(len(yoruba)):\n",
    "    x.append(str(yoruba[i]))\n",
    "    y.append(str(english[i]))\n",
    "\n",
    "x = np.array(x)\n",
    "y = np.array(y)\n",
    "len(x), len(y)"
   ]
  },
  {
   "cell_type": "code",
   "execution_count": 103,
   "metadata": {},
   "outputs": [
    {
     "data": {
      "text/plain": [
       "((8043,), (2011,))"
      ]
     },
     "execution_count": 103,
     "metadata": {},
     "output_type": "execute_result"
    }
   ],
   "source": [
    "X_train, X_test, y_train, y_test = train_test_split(x, y, test_size = 0.2)\n",
    "X_train.shape, X_test.shape"
   ]
  },
  {
   "cell_type": "markdown",
   "metadata": {},
   "source": [
    "# Data Preprocessing"
   ]
  },
  {
   "cell_type": "markdown",
   "metadata": {},
   "source": [
    "## Tokenize"
   ]
  },
  {
   "cell_type": "code",
   "execution_count": 221,
   "metadata": {},
   "outputs": [],
   "source": [
    "def tokenize(x):\n",
    "    \"\"\"\n",
    "    Tokenize x\n",
    "    param x: pandas series of sentences/strings to be tokenized\n",
    "    return: tokenized x data\n",
    "    \"\"\"\n",
    "    sentences = x.tolist()\n",
    "    tokenizer = Tokenizer(char_level=False)\n",
    "    tokenizer.fit_on_texts(x)\n",
    "#     word_index = tokenizer.word_index\n",
    "    return tokenizer.texts_to_sequences(x)"
   ]
  },
  {
   "cell_type": "code",
   "execution_count": 222,
   "metadata": {},
   "outputs": [],
   "source": [
    "# train_X['Yoruba'] = train_X.apply(lambda row:tokenize_Yoruba(row['Yoruba']), axis = 1) \n",
    "train_X['Yoruba'] = tokenize(train_X['Yoruba'])"
   ]
  },
  {
   "cell_type": "code",
   "execution_count": 223,
   "metadata": {},
   "outputs": [
    {
     "data": {
      "text/html": [
       "<div>\n",
       "<style scoped>\n",
       "    .dataframe tbody tr th:only-of-type {\n",
       "        vertical-align: middle;\n",
       "    }\n",
       "\n",
       "    .dataframe tbody tr th {\n",
       "        vertical-align: top;\n",
       "    }\n",
       "\n",
       "    .dataframe thead th {\n",
       "        text-align: right;\n",
       "    }\n",
       "</style>\n",
       "<table border=\"1\" class=\"dataframe\">\n",
       "  <thead>\n",
       "    <tr style=\"text-align: right;\">\n",
       "      <th></th>\n",
       "      <th>ID</th>\n",
       "      <th>Yoruba</th>\n",
       "    </tr>\n",
       "  </thead>\n",
       "  <tbody>\n",
       "    <tr>\n",
       "      <th>0</th>\n",
       "      <td>ID_AAJEQLCz</td>\n",
       "      <td>[12, 192, 102, 4, 5, 192, 227, 74, 216, 11, 40...</td>\n",
       "    </tr>\n",
       "    <tr>\n",
       "      <th>1</th>\n",
       "      <td>ID_AASNedba</td>\n",
       "      <td>[2345, 520, 873, 204, 15, 7, 1964, 610, 55, 59...</td>\n",
       "    </tr>\n",
       "    <tr>\n",
       "      <th>2</th>\n",
       "      <td>ID_AAeQrhMq</td>\n",
       "      <td>[553, 510, 459, 14]</td>\n",
       "    </tr>\n",
       "    <tr>\n",
       "      <th>3</th>\n",
       "      <td>ID_AAxlMgPP</td>\n",
       "      <td>[697, 1291, 1226, 17, 2682, 2, 924, 10, 4726, ...</td>\n",
       "    </tr>\n",
       "    <tr>\n",
       "      <th>4</th>\n",
       "      <td>ID_ABKuMKSx</td>\n",
       "      <td>[495, 200, 78, 25, 7043, 7044, 3132, 345, 521,...</td>\n",
       "    </tr>\n",
       "  </tbody>\n",
       "</table>\n",
       "</div>"
      ],
      "text/plain": [
       "            ID                                             Yoruba\n",
       "0  ID_AAJEQLCz  [12, 192, 102, 4, 5, 192, 227, 74, 216, 11, 40...\n",
       "1  ID_AASNedba  [2345, 520, 873, 204, 15, 7, 1964, 610, 55, 59...\n",
       "2  ID_AAeQrhMq                                [553, 510, 459, 14]\n",
       "3  ID_AAxlMgPP  [697, 1291, 1226, 17, 2682, 2, 924, 10, 4726, ...\n",
       "4  ID_ABKuMKSx  [495, 200, 78, 25, 7043, 7044, 3132, 345, 521,..."
      ]
     },
     "execution_count": 223,
     "metadata": {},
     "output_type": "execute_result"
    }
   ],
   "source": [
    "train_X.head()"
   ]
  },
  {
   "cell_type": "markdown",
   "metadata": {},
   "source": [
    "## Padding"
   ]
  },
  {
   "cell_type": "code",
   "execution_count": 225,
   "metadata": {},
   "outputs": [],
   "source": [
    "def pad(x, length=None):\n",
    "    \"\"\"\n",
    "    Pad x\n",
    "    param x: List of sequences.\n",
    "    param length: Length to pad the sequence to, If None use length of longest sequence in x\n",
    "    return: Padded numpy array of sequences\n",
    "\n",
    "    \"\"\"\n",
    "    \n",
    "    if length is None:\n",
    "        length = max([len(sentence) for sentence in x])\n",
    "        print(length)\n",
    "        \n",
    "    return pad_sequences(x, maxlen=length, padding='post', value=0).tolist()"
   ]
  },
  {
   "cell_type": "code",
   "execution_count": 226,
   "metadata": {},
   "outputs": [
    {
     "name": "stdout",
     "output_type": "stream",
     "text": [
      "226\n"
     ]
    },
    {
     "data": {
      "text/html": [
       "<div>\n",
       "<style scoped>\n",
       "    .dataframe tbody tr th:only-of-type {\n",
       "        vertical-align: middle;\n",
       "    }\n",
       "\n",
       "    .dataframe tbody tr th {\n",
       "        vertical-align: top;\n",
       "    }\n",
       "\n",
       "    .dataframe thead th {\n",
       "        text-align: right;\n",
       "    }\n",
       "</style>\n",
       "<table border=\"1\" class=\"dataframe\">\n",
       "  <thead>\n",
       "    <tr style=\"text-align: right;\">\n",
       "      <th></th>\n",
       "      <th>ID</th>\n",
       "      <th>Yoruba</th>\n",
       "    </tr>\n",
       "  </thead>\n",
       "  <tbody>\n",
       "    <tr>\n",
       "      <th>0</th>\n",
       "      <td>ID_AAJEQLCz</td>\n",
       "      <td>[12, 192, 102, 4, 5, 192, 227, 74, 216, 11, 40...</td>\n",
       "    </tr>\n",
       "    <tr>\n",
       "      <th>1</th>\n",
       "      <td>ID_AASNedba</td>\n",
       "      <td>[2345, 520, 873, 204, 15, 7, 1964, 610, 55, 59...</td>\n",
       "    </tr>\n",
       "    <tr>\n",
       "      <th>2</th>\n",
       "      <td>ID_AAeQrhMq</td>\n",
       "      <td>[553, 510, 459, 14, 0, 0, 0, 0, 0, 0, 0, 0, 0,...</td>\n",
       "    </tr>\n",
       "    <tr>\n",
       "      <th>3</th>\n",
       "      <td>ID_AAxlMgPP</td>\n",
       "      <td>[697, 1291, 1226, 17, 2682, 2, 924, 10, 4726, ...</td>\n",
       "    </tr>\n",
       "    <tr>\n",
       "      <th>4</th>\n",
       "      <td>ID_ABKuMKSx</td>\n",
       "      <td>[495, 200, 78, 25, 7043, 7044, 3132, 345, 521,...</td>\n",
       "    </tr>\n",
       "  </tbody>\n",
       "</table>\n",
       "</div>"
      ],
      "text/plain": [
       "            ID                                             Yoruba\n",
       "0  ID_AAJEQLCz  [12, 192, 102, 4, 5, 192, 227, 74, 216, 11, 40...\n",
       "1  ID_AASNedba  [2345, 520, 873, 204, 15, 7, 1964, 610, 55, 59...\n",
       "2  ID_AAeQrhMq  [553, 510, 459, 14, 0, 0, 0, 0, 0, 0, 0, 0, 0,...\n",
       "3  ID_AAxlMgPP  [697, 1291, 1226, 17, 2682, 2, 924, 10, 4726, ...\n",
       "4  ID_ABKuMKSx  [495, 200, 78, 25, 7043, 7044, 3132, 345, 521,..."
      ]
     },
     "execution_count": 226,
     "metadata": {},
     "output_type": "execute_result"
    }
   ],
   "source": [
    "train_X['Yoruba'] = pad(train_X['Yoruba'])\n",
    "train_X.head()\n",
    "# length = None\n",
    "# x = train_X['Yoruba']\n",
    "# if length is None:\n",
    "#         length = max([len(sentence) for sentence in x])\n",
    "# train_X['Yourba'] = pad_sequences(train_X.Yoruba, maxlen=length, padding='post', value=0).tolist()"
   ]
  },
  {
   "cell_type": "code",
   "execution_count": 73,
   "metadata": {},
   "outputs": [],
   "source": [
    "# (train_lang, valid_lang,train_labels,valid_labels) = train_test_split(train_X,\n",
    "#                                                                     train_y,train_size = 0.8,random_state = 0)"
   ]
  },
  {
   "cell_type": "code",
   "execution_count": 74,
   "metadata": {},
   "outputs": [
    {
     "data": {
      "text/html": [
       "<div>\n",
       "<style scoped>\n",
       "    .dataframe tbody tr th:only-of-type {\n",
       "        vertical-align: middle;\n",
       "    }\n",
       "\n",
       "    .dataframe tbody tr th {\n",
       "        vertical-align: top;\n",
       "    }\n",
       "\n",
       "    .dataframe thead th {\n",
       "        text-align: right;\n",
       "    }\n",
       "</style>\n",
       "<table border=\"1\" class=\"dataframe\">\n",
       "  <thead>\n",
       "    <tr style=\"text-align: right;\">\n",
       "      <th></th>\n",
       "      <th>ID</th>\n",
       "      <th>Yoruba</th>\n",
       "    </tr>\n",
       "  </thead>\n",
       "  <tbody>\n",
       "    <tr>\n",
       "      <th>2560</th>\n",
       "      <td>ID_NBoLPZLV</td>\n",
       "      <td>[135, 230, 20, 1251, 2, 1, 62, 45, 28, 437, 10...</td>\n",
       "    </tr>\n",
       "    <tr>\n",
       "      <th>7972</th>\n",
       "      <td>ID_pBOTGAWL</td>\n",
       "      <td>[7, 20, 42, 115, 1663, 158, 307, 306]</td>\n",
       "    </tr>\n",
       "    <tr>\n",
       "      <th>2406</th>\n",
       "      <td>ID_MKYPuSzg</td>\n",
       "      <td>[168, 51, 23, 49, 241, 129]</td>\n",
       "    </tr>\n",
       "    <tr>\n",
       "      <th>2782</th>\n",
       "      <td>ID_OGkTbtPH</td>\n",
       "      <td>[3, 915, 1784, 162, 152, 258, 33, 235, 157, 49...</td>\n",
       "    </tr>\n",
       "    <tr>\n",
       "      <th>8649</th>\n",
       "      <td>ID_shPghfmD</td>\n",
       "      <td>[11, 743, 159, 627, 162, 15, 378, 4, 2680, 4, ...</td>\n",
       "    </tr>\n",
       "    <tr>\n",
       "      <th>...</th>\n",
       "      <td>...</td>\n",
       "      <td>...</td>\n",
       "    </tr>\n",
       "    <tr>\n",
       "      <th>9225</th>\n",
       "      <td>ID_vgRSIdjA</td>\n",
       "      <td>[95, 124, 30, 3, 529, 10, 5, 192, 227, 246, 2,...</td>\n",
       "    </tr>\n",
       "    <tr>\n",
       "      <th>4859</th>\n",
       "      <td>ID_ZCpYPuTO</td>\n",
       "      <td>[11149, 1, 65, 547, 41, 25, 2934, 38, 18, 11, ...</td>\n",
       "    </tr>\n",
       "    <tr>\n",
       "      <th>3264</th>\n",
       "      <td>ID_QfHQSlhY</td>\n",
       "      <td>[1142, 6, 5, 218]</td>\n",
       "    </tr>\n",
       "    <tr>\n",
       "      <th>9845</th>\n",
       "      <td>ID_zEaCdxEJ</td>\n",
       "      <td>[558, 15331]</td>\n",
       "    </tr>\n",
       "    <tr>\n",
       "      <th>2732</th>\n",
       "      <td>ID_NtquMkrE</td>\n",
       "      <td>[378, 1318, 492, 21, 9333, 1318, 2392, 238, 23...</td>\n",
       "    </tr>\n",
       "  </tbody>\n",
       "</table>\n",
       "<p>8043 rows × 2 columns</p>\n",
       "</div>"
      ],
      "text/plain": [
       "               ID                                             Yoruba\n",
       "2560  ID_NBoLPZLV  [135, 230, 20, 1251, 2, 1, 62, 45, 28, 437, 10...\n",
       "7972  ID_pBOTGAWL              [7, 20, 42, 115, 1663, 158, 307, 306]\n",
       "2406  ID_MKYPuSzg                        [168, 51, 23, 49, 241, 129]\n",
       "2782  ID_OGkTbtPH  [3, 915, 1784, 162, 152, 258, 33, 235, 157, 49...\n",
       "8649  ID_shPghfmD  [11, 743, 159, 627, 162, 15, 378, 4, 2680, 4, ...\n",
       "...           ...                                                ...\n",
       "9225  ID_vgRSIdjA  [95, 124, 30, 3, 529, 10, 5, 192, 227, 246, 2,...\n",
       "4859  ID_ZCpYPuTO  [11149, 1, 65, 547, 41, 25, 2934, 38, 18, 11, ...\n",
       "3264  ID_QfHQSlhY                                  [1142, 6, 5, 218]\n",
       "9845  ID_zEaCdxEJ                                       [558, 15331]\n",
       "2732  ID_NtquMkrE  [378, 1318, 492, 21, 9333, 1318, 2392, 238, 23...\n",
       "\n",
       "[8043 rows x 2 columns]"
      ]
     },
     "execution_count": 74,
     "metadata": {},
     "output_type": "execute_result"
    }
   ],
   "source": [
    "train_lang"
   ]
  },
  {
   "cell_type": "code",
   "execution_count": null,
   "metadata": {},
   "outputs": [],
   "source": []
  }
 ],
 "metadata": {
  "kernelspec": {
   "display_name": "tf_gpu",
   "language": "python",
   "name": "tf_gpu"
  },
  "language_info": {
   "codemirror_mode": {
    "name": "ipython",
    "version": 3
   },
   "file_extension": ".py",
   "mimetype": "text/x-python",
   "name": "python",
   "nbconvert_exporter": "python",
   "pygments_lexer": "ipython3",
   "version": "3.7.9"
  }
 },
 "nbformat": 4,
 "nbformat_minor": 4
}
